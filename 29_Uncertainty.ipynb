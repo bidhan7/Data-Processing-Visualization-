{
  "nbformat": 4,
  "nbformat_minor": 0,
  "metadata": {
    "colab": {
      "name": "Untitled102.ipynb",
      "provenance": [],
      "include_colab_link": true
    },
    "kernelspec": {
      "name": "python3",
      "display_name": "Python 3"
    },
    "language_info": {
      "name": "python"
    }
  },
  "cells": [
    {
      "cell_type": "markdown",
      "metadata": {
        "id": "view-in-github",
        "colab_type": "text"
      },
      "source": [
        "<a href=\"https://colab.research.google.com/github/bidhan7/Data-Processing-Visualization-/blob/main/29_Uncertainty.ipynb\" target=\"_parent\"><img src=\"https://colab.research.google.com/assets/colab-badge.svg\" alt=\"Open In Colab\"/></a>"
      ]
    },
    {
      "cell_type": "markdown",
      "source": [
        "# Uncertainty"
      ],
      "metadata": {
        "id": "z2wSVGyv6lCe"
      }
    },
    {
      "cell_type": "markdown",
      "source": [
        "## Your Turn\n",
        "\n",
        "1. Explain the difference between standard error and confidence intervals.\n"
      ],
      "metadata": {
        "id": "cGRTC-tVnmHR"
      }
    },
    {
      "cell_type": "markdown",
      "source": [
        "Standard errors and confidence intervals are both used to indicate how much your estimate can change.\n",
        "\n",
        "The standard error estimate is a statistical accuracy metric. A statistician only needs to look at the standard error to obtain a sense of the p-value and the confidence interval.\n",
        "\n",
        "The confidence interval is created by drawing an interval around your estimated effect with a given level of confidence based on estimated standard errors. This level of assurance is stated as a percentage of the time that the true proportion of the population falls within the confidence interval."
      ],
      "metadata": {
        "id": "6735SweM1vAN"
      }
    },
    {
      "cell_type": "markdown",
      "source": [
        "2. Use the workout data and graph the average calories by workout type and include the 95% confidence interval."
      ],
      "metadata": {
        "id": "x-Gj9sn62AR7"
      }
    },
    {
      "cell_type": "markdown",
      "source": [
        ""
      ],
      "metadata": {
        "id": "BNY-7aBj2CsS"
      }
    }
  ]
}