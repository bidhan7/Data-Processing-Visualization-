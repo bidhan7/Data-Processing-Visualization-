{
  "nbformat": 4,
  "nbformat_minor": 0,
  "metadata": {
    "colab": {
      "name": "Int&Float.ipynb",
      "provenance": [],
      "authorship_tag": "ABX9TyOiCIU1c9N/I5SfP+FeWXyv",
      "include_colab_link": true
    },
    "kernelspec": {
      "name": "python3",
      "display_name": "Python 3"
    },
    "language_info": {
      "name": "python"
    }
  },
  "cells": [
    {
      "cell_type": "markdown",
      "metadata": {
        "id": "view-in-github",
        "colab_type": "text"
      },
      "source": [
        "<a href=\"https://colab.research.google.com/github/bidhan7/Data-Processing-Visualization-/blob/main/Int%26Float.ipynb\" target=\"_parent\"><img src=\"https://colab.research.google.com/assets/colab-badge.svg\" alt=\"Open In Colab\"/></a>"
      ]
    },
    {
      "cell_type": "markdown",
      "source": [
        "## DATA PROCESSING VISIUALIZATION\n",
        "## Bidhan Subedi\n",
        "## Int & Float"
      ],
      "metadata": {
        "id": "KRJxVygRCYui"
      }
    },
    {
      "cell_type": "markdown",
      "source": [
        "Grab the iris dataset. Answer the following questions:\n",
        "\n",
        "Does converting SepalLength to integer increase or decrease the mean?\n",
        "\n",
        "Does the direction of the shift remain the same if you groupby Class?\n",
        "\n",
        "Gather the mean, median, count and standard deviation of all columns when grouped by Class.\n",
        "\n"
      ],
      "metadata": {
        "id": "pfMZAbt4CKgt"
      }
    }
  ]
}