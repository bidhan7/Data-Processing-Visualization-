{
  "nbformat": 4,
  "nbformat_minor": 0,
  "metadata": {
    "colab": {
      "name": "Untitled5.ipynb",
      "provenance": [],
      "authorship_tag": "ABX9TyMdfvBoqvzHUG0wCQGsJbdK",
      "include_colab_link": true
    },
    "kernelspec": {
      "name": "python3",
      "display_name": "Python 3"
    },
    "language_info": {
      "name": "python"
    }
  },
  "cells": [
    {
      "cell_type": "markdown",
      "metadata": {
        "id": "view-in-github",
        "colab_type": "text"
      },
      "source": [
        "<a href=\"https://colab.research.google.com/github/bidhan7/Data-Processing-Visualization-/blob/main/String.ipynb\" target=\"_parent\"><img src=\"https://colab.research.google.com/assets/colab-badge.svg\" alt=\"Open In Colab\"/></a>"
      ]
    },
    {
      "cell_type": "markdown",
      "source": [
        "## DATA PROCESSING VISUALIZATION \n",
        "## Bidhan Subedi \n",
        "\n",
        "## Strings"
      ],
      "metadata": {
        "id": "dEgzzQbgMAQh"
      }
    },
    {
      "cell_type": "markdown",
      "source": [
        "I am going to put birthday song in variable birthday_Wish."
      ],
      "metadata": {
        "id": "hhVSYxFHMx9A"
      }
    },
    {
      "cell_type": "code",
      "execution_count": 50,
      "metadata": {
        "colab": {
          "base_uri": "https://localhost:8080/"
        },
        "id": "1gjF1Shv9LyV",
        "outputId": "71e4a5ec-4253-483a-9f70-eff567e7e8c1"
      },
      "outputs": [
        {
          "output_type": "stream",
          "name": "stdout",
          "text": [
            "Happy Birthday to You,\n",
            "Happy Birthday to You,\n",
            "Happy Birthday Dear (name),\n",
            "Happy Birthday to You.\n"
          ]
        }
      ],
      "source": [
        "birthday_wish = 'Happy Birthday to You,\\nHappy Birthday to You,\\nHappy Birthday Dear (name),\\nHappy Birthday to You.'\n",
        "\n",
        "print(birthday_wish)\n",
        "\n",
        "\n"
      ]
    },
    {
      "cell_type": "markdown",
      "source": [
        "Then there is just name in birthday song, i will replace '(name)' with my name 'Bidhan'."
      ],
      "metadata": {
        "id": "rovgL5_cM8Xc"
      }
    },
    {
      "cell_type": "code",
      "source": [
        "new_wish = birthday_wish.replace('(name)', 'Bidhan')"
      ],
      "metadata": {
        "id": "CpvkML5aHsZ5"
      },
      "execution_count": 62,
      "outputs": []
    },
    {
      "cell_type": "code",
      "source": [
        "print(new_wish)"
      ],
      "metadata": {
        "colab": {
          "base_uri": "https://localhost:8080/"
        },
        "id": "I08Nq61kJSgT",
        "outputId": "1650990e-5c53-4bc7-9209-e20f16a4c091"
      },
      "execution_count": 64,
      "outputs": [
        {
          "output_type": "stream",
          "name": "stdout",
          "text": [
            "Happy Birthday to You,\n",
            "Happy Birthday to You,\n",
            "Happy Birthday Dear Bidhan,\n",
            "Happy Birthday to You.\n"
          ]
        }
      ]
    },
    {
      "cell_type": "code",
      "source": [
        "name = new_wish[66:72]\n",
        "name\n"
      ],
      "metadata": {
        "colab": {
          "base_uri": "https://localhost:8080/",
          "height": 35
        },
        "id": "4NpZcwWiFHrj",
        "outputId": "be2d1e65-eddd-476e-fe14-05a6bddac553"
      },
      "execution_count": 81,
      "outputs": [
        {
          "output_type": "execute_result",
          "data": {
            "application/vnd.google.colaboratory.intrinsic+json": {
              "type": "string"
            },
            "text/plain": [
              "'Bidhan'"
            ]
          },
          "metadata": {},
          "execution_count": 81
        }
      ]
    },
    {
      "cell_type": "code",
      "source": [
        "print(\"Who's birthday is today?\\n\",name)"
      ],
      "metadata": {
        "colab": {
          "base_uri": "https://localhost:8080/"
        },
        "id": "gvvnRzvxNkx5",
        "outputId": "00a7d316-a1f7-4722-cd39-21716564c905"
      },
      "execution_count": 82,
      "outputs": [
        {
          "output_type": "stream",
          "name": "stdout",
          "text": [
            "Who's birthday is today?\n",
            " Bidhan\n"
          ]
        }
      ]
    }
  ]
}