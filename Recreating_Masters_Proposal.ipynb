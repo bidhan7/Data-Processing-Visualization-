{
  "nbformat": 4,
  "nbformat_minor": 0,
  "metadata": {
    "colab": {
      "name": "Untitled10.ipynb",
      "provenance": [],
      "authorship_tag": "ABX9TyOdAYgePzpoPMXcoByYkaDi",
      "include_colab_link": true
    },
    "kernelspec": {
      "name": "python3",
      "display_name": "Python 3"
    },
    "language_info": {
      "name": "python"
    }
  },
  "cells": [
    {
      "cell_type": "markdown",
      "metadata": {
        "id": "view-in-github",
        "colab_type": "text"
      },
      "source": [
        "<a href=\"https://colab.research.google.com/github/bidhan7/Data-Processing-Visualization-/blob/main/Recreating_Masters_Proposal.ipynb\" target=\"_parent\"><img src=\"https://colab.research.google.com/assets/colab-badge.svg\" alt=\"Open In Colab\"/></a>"
      ]
    },
    {
      "cell_type": "markdown",
      "source": [
        "Instructions: Recent Data Visualizations: Select a topic that is timely in some way and of interest to you. Gather multiple\n",
        "sources on the topic that contain some sort of visualization of data on the topic. Critique each of these visualizations\n",
        "taking into account discussions of visualizations in class, the source of the visualization, and any comparison to the other\n",
        "visualizations gathered.\n",
        "\n",
        "\n",
        "1. Project Proposal: For the recent data visualization it is important that you pick a topic that will work for the project\n",
        "and that you have considered the strengths and weaknesses of your topic. You will submit a one page proposal to\n",
        "blackboard. The proposal should outline how your topics is timely, important and appropriate for your peers to consider.\n",
        "Your proposal should highlight what visualizations you expect to find (you need not have found them yet!) and identify\n",
        "ways in which you expect data integrity to be followed (or not!). Your conclusion should include what you hope to learn\n",
        "about the topic and reporting by examining this topic.\n",
        "\n",
        "\n",
        "(a) (10 points) Topic Support\n",
        "\n",
        "(b) (5 points) Visualization Descriptions\n",
        "\n",
        "(c) (10 points) Learning from Topic"
      ],
      "metadata": {
        "id": "ldlJSBYRhZ-r"
      }
    },
    {
      "cell_type": "markdown",
      "source": [
        ""
      ],
      "metadata": {
        "id": "p0LnVhE5heHm"
      }
    }
  ]
}